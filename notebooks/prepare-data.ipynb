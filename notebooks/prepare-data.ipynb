{
 "cells": [
  {
   "cell_type": "code",
   "execution_count": 1,
   "id": "9019cccc-8165-4af5-85d7-0ad315045232",
   "metadata": {},
   "outputs": [],
   "source": [
    "import json"
   ]
  },
  {
   "cell_type": "code",
   "execution_count": 2,
   "id": "e9c3841e-6ff5-4740-8e30-bacceb4d2e82",
   "metadata": {},
   "outputs": [],
   "source": [
    "en = []\n",
    "fr = []\n",
    "\n",
    "with open(\"../raw/french.txt\", \"r\") as f:\n",
    "    for line in f:\n",
    "        tokens = line.split(\".\")\n",
    "        if len(tokens) == 3:\n",
    "            fr.append(tokens[0] + \".\")\n",
    "            en.append(tokens[1].lstrip(\" _\") + \".\")"
   ]
  },
  {
   "cell_type": "code",
   "execution_count": 3,
   "id": "2b1bfd5b-4b3d-4b52-9aa6-232b396181b7",
   "metadata": {},
   "outputs": [],
   "source": [
    "with open(\"../raw/fr-en.jsonl\", \"w\", encoding=\"utf-8\") as fo:\n",
    "    for f, e in zip(fr, en):\n",
    "        j = json.dumps({\"FR\": f, \"EN\": e})\n",
    "        fo.write(j + \"\\n\")"
   ]
  },
  {
   "cell_type": "code",
   "execution_count": 4,
   "id": "6c293242-d78d-4ed6-aee5-1b1e9ba38e0b",
   "metadata": {},
   "outputs": [
    {
     "name": "stdout",
     "output_type": "stream",
     "text": [
      "A beau demandeur, beau refuseur.\n",
      "Handsomely asked, handsomely refused.\n",
      "\n",
      "A beau jeu beau retour.\n",
      "One good turn deserves another.\n",
      "\n",
      "A bon appétit il ne faut point de sauce.\n",
      "Hunger is the best sauce.\n",
      "\n",
      "A bon chat bon rat.\n",
      "To a good cat a good rat.\n",
      "\n",
      "A bon cheval point d’éperon.\n",
      "Spur not a willing horse.\n",
      "\n",
      "Abondance de biens ne nuit pas.\n",
      "Store is no sore.\n",
      "\n",
      "A bon entendeur demi-mot.\n",
      "A word to the wise.\n",
      "\n",
      "A bon pêcheur échappe anguille.\n",
      "An eel escapes from a good fisherman.\n",
      "\n",
      "A bon vin point d’enseigne.\n",
      "Good wine needs no sign.\n",
      "\n",
      "A chacun son fardeau pèse.\n",
      "Every one feels his own burden heavy.\n",
      "\n"
     ]
    }
   ],
   "source": [
    "preview = 10\n",
    "for f, e in zip(fr[:preview], en[:preview]):\n",
    "    print(f)\n",
    "    print(e)\n",
    "    print()"
   ]
  },
  {
   "cell_type": "code",
   "execution_count": null,
   "id": "24a45f7b-3d65-46bb-8104-518bdd83f89f",
   "metadata": {},
   "outputs": [],
   "source": []
  }
 ],
 "metadata": {
  "kernelspec": {
   "display_name": "Python 3",
   "language": "python",
   "name": "python3"
  },
  "language_info": {
   "codemirror_mode": {
    "name": "ipython",
    "version": 3
   },
   "file_extension": ".py",
   "mimetype": "text/x-python",
   "name": "python",
   "nbconvert_exporter": "python",
   "pygments_lexer": "ipython3",
   "version": "3.8.8"
  }
 },
 "nbformat": 4,
 "nbformat_minor": 5
}
